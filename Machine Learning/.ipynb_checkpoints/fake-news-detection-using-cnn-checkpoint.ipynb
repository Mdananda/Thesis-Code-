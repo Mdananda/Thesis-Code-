{
 "cells": [
  {
   "cell_type": "code",
   "execution_count": 1,
   "metadata": {
    "_cell_guid": "b1076dfc-b9ad-4769-8c92-a6c4dae69d19",
    "_uuid": "8f2839f25d086af736a60e9eeb907d3b93b6e0e5"
   },
   "outputs": [],
   "source": [
    "# This Python 3 environment comes with many helpful analytics libraries installed\n",
    "# It is defined by the kaggle/python docker image: https://github.com/kaggle/docker-python\n",
    "# For example, here's several helpful packages to load in \n",
    "\n",
    "import numpy as np # linear algebra\n",
    "import pandas as pd # data processing, CSV file I/O (e.g. pd.read_csv)\n",
    "\n",
    "# Input data files are available in the \"../input/\" directory.\n",
    "# For example, running this (by clicking run or pressing Shift+Enter) will list all files under the input directory\n",
    "\n",
    "import os\n",
    "for dirname, _, filenames in os.walk('/kaggle/input'):\n",
    "    for filename in filenames:\n",
    "        print(os.path.join(dirname, filename))\n",
    "\n",
    "# Any results you write to the current directory are saved as output."
   ]
  },
  {
   "cell_type": "code",
   "execution_count": null,
   "metadata": {},
   "outputs": [],
   "source": [
    "conda install -c conda-forge wordcloud"
   ]
  },
  {
   "cell_type": "markdown",
   "metadata": {},
   "source": [
    "# Importing Libraries"
   ]
  },
  {
   "cell_type": "code",
   "execution_count": 2,
   "metadata": {
    "_cell_guid": "79c7e3d0-c299-4dcb-8224-4455121ee9b0",
    "_uuid": "d629ff2d2480ee46fbb7e2d37f6b5fab8052498a"
   },
   "outputs": [
    {
     "ename": "ModuleNotFoundError",
     "evalue": "No module named 'wordcloud'",
     "output_type": "error",
     "traceback": [
      "\u001b[1;31m---------------------------------------------------------------------------\u001b[0m",
      "\u001b[1;31mModuleNotFoundError\u001b[0m                       Traceback (most recent call last)",
      "Cell \u001b[1;32mIn[2], line 11\u001b[0m\n\u001b[0;32m      9\u001b[0m \u001b[38;5;28;01mfrom\u001b[39;00m \u001b[38;5;21;01mnltk\u001b[39;00m\u001b[38;5;21;01m.\u001b[39;00m\u001b[38;5;21;01mcorpus\u001b[39;00m \u001b[38;5;28;01mimport\u001b[39;00m stopwords\n\u001b[0;32m     10\u001b[0m \u001b[38;5;28;01mfrom\u001b[39;00m \u001b[38;5;21;01mnltk\u001b[39;00m\u001b[38;5;21;01m.\u001b[39;00m\u001b[38;5;21;01mstem\u001b[39;00m\u001b[38;5;21;01m.\u001b[39;00m\u001b[38;5;21;01mporter\u001b[39;00m \u001b[38;5;28;01mimport\u001b[39;00m PorterStemmer\n\u001b[1;32m---> 11\u001b[0m \u001b[38;5;28;01mfrom\u001b[39;00m \u001b[38;5;21;01mwordcloud\u001b[39;00m \u001b[38;5;28;01mimport\u001b[39;00m WordCloud,STOPWORDS\n\u001b[0;32m     12\u001b[0m \u001b[38;5;28;01mfrom\u001b[39;00m \u001b[38;5;21;01mnltk\u001b[39;00m\u001b[38;5;21;01m.\u001b[39;00m\u001b[38;5;21;01mstem\u001b[39;00m \u001b[38;5;28;01mimport\u001b[39;00m WordNetLemmatizer\n\u001b[0;32m     13\u001b[0m \u001b[38;5;28;01mfrom\u001b[39;00m \u001b[38;5;21;01mnltk\u001b[39;00m\u001b[38;5;21;01m.\u001b[39;00m\u001b[38;5;21;01mtokenize\u001b[39;00m \u001b[38;5;28;01mimport\u001b[39;00m word_tokenize,sent_tokenize\n",
      "\u001b[1;31mModuleNotFoundError\u001b[0m: No module named 'wordcloud'"
     ]
    }
   ],
   "source": [
    "import numpy as np\n",
    "import pandas as pd\n",
    "import seaborn as sns\n",
    "import matplotlib.pyplot as plt\n",
    "import nltk\n",
    "from sklearn.feature_extraction.text import CountVectorizer\n",
    "from sklearn.feature_extraction.text import TfidfVectorizer\n",
    "from sklearn.preprocessing import LabelBinarizer\n",
    "from nltk.corpus import stopwords\n",
    "from nltk.stem.porter import PorterStemmer\n",
    "from wordcloud import WordCloud,STOPWORDS\n",
    "from nltk.stem import WordNetLemmatizer\n",
    "from nltk.tokenize import word_tokenize,sent_tokenize\n",
    "from bs4 import BeautifulSoup\n",
    "import re,string,unicodedata\n",
    "from nltk.tokenize.toktok import ToktokTokenizer\n",
    "from nltk.stem import PorterStemmer,WordNetLemmatizer\n",
    "from sklearn.metrics import classification_report,confusion_matrix,accuracy_score\n",
    "from sklearn.model_selection import train_test_split\n",
    "from string import punctuation\n",
    "from nltk import pos_tag\n",
    "from nltk.corpus import wordnet\n",
    "\n",
    "\n",
    "import keras\n",
    "from keras.models import Sequential\n",
    "from keras.layers import Dense\n",
    "import tensorflow as tf"
   ]
  },
  {
   "cell_type": "markdown",
   "metadata": {},
   "source": [
    "# Loading Dataset"
   ]
  },
  {
   "cell_type": "code",
   "execution_count": 3,
   "metadata": {
    "execution": {
     "iopub.execute_input": "2023-09-16T10:39:59.392982Z",
     "iopub.status.busy": "2023-09-16T10:39:59.392687Z",
     "iopub.status.idle": "2023-09-16T10:40:01.732883Z",
     "shell.execute_reply": "2023-09-16T10:40:01.732001Z",
     "shell.execute_reply.started": "2023-09-16T10:39:59.392948Z"
    }
   },
   "outputs": [],
   "source": [
    "true = pd.read_csv(\"True.csv\")\n",
    "false = pd.read_csv(\"Fake.csv\")"
   ]
  },
  {
   "cell_type": "markdown",
   "metadata": {},
   "source": [
    "# First 5 records"
   ]
  },
  {
   "cell_type": "code",
   "execution_count": null,
   "metadata": {
    "execution": {
     "iopub.execute_input": "2023-09-16T10:40:01.734681Z",
     "iopub.status.busy": "2023-09-16T10:40:01.734388Z",
     "iopub.status.idle": "2023-09-16T10:40:01.762791Z",
     "shell.execute_reply": "2023-09-16T10:40:01.762159Z",
     "shell.execute_reply.started": "2023-09-16T10:40:01.734642Z"
    }
   },
   "outputs": [],
   "source": [
    "true.head()"
   ]
  },
  {
   "cell_type": "code",
   "execution_count": null,
   "metadata": {
    "execution": {
     "iopub.execute_input": "2023-09-16T10:40:01.766702Z",
     "iopub.status.busy": "2023-09-16T10:40:01.766323Z",
     "iopub.status.idle": "2023-09-16T10:40:01.777863Z",
     "shell.execute_reply": "2023-09-16T10:40:01.777128Z",
     "shell.execute_reply.started": "2023-09-16T10:40:01.766672Z"
    }
   },
   "outputs": [],
   "source": [
    "false.head()"
   ]
  },
  {
   "cell_type": "code",
   "execution_count": null,
   "metadata": {
    "execution": {
     "iopub.execute_input": "2023-09-16T10:40:01.781254Z",
     "iopub.status.busy": "2023-09-16T10:40:01.780791Z",
     "iopub.status.idle": "2023-09-16T10:40:01.790206Z",
     "shell.execute_reply": "2023-09-16T10:40:01.789459Z",
     "shell.execute_reply.started": "2023-09-16T10:40:01.781217Z"
    }
   },
   "outputs": [],
   "source": [
    "true['category'] = 1\n",
    "false['category'] = 0"
   ]
  },
  {
   "cell_type": "code",
   "execution_count": null,
   "metadata": {
    "execution": {
     "iopub.execute_input": "2023-09-16T10:40:01.791738Z",
     "iopub.status.busy": "2023-09-16T10:40:01.791417Z",
     "iopub.status.idle": "2023-09-16T10:40:01.812044Z",
     "shell.execute_reply": "2023-09-16T10:40:01.811357Z",
     "shell.execute_reply.started": "2023-09-16T10:40:01.791702Z"
    }
   },
   "outputs": [],
   "source": [
    "true.head()"
   ]
  },
  {
   "cell_type": "markdown",
   "metadata": {},
   "source": [
    "# Merging the 2 datasets"
   ]
  },
  {
   "cell_type": "code",
   "execution_count": null,
   "metadata": {
    "execution": {
     "iopub.execute_input": "2023-09-16T10:40:01.814169Z",
     "iopub.status.busy": "2023-09-16T10:40:01.813823Z",
     "iopub.status.idle": "2023-09-16T10:40:01.826409Z",
     "shell.execute_reply": "2023-09-16T10:40:01.825580Z",
     "shell.execute_reply.started": "2023-09-16T10:40:01.814132Z"
    }
   },
   "outputs": [],
   "source": [
    "df = pd.concat([true,false]) "
   ]
  },
  {
   "cell_type": "markdown",
   "metadata": {},
   "source": [
    "# Check for missing values"
   ]
  },
  {
   "cell_type": "code",
   "execution_count": null,
   "metadata": {
    "execution": {
     "iopub.execute_input": "2023-09-16T10:40:01.828188Z",
     "iopub.status.busy": "2023-09-16T10:40:01.827886Z",
     "iopub.status.idle": "2023-09-16T10:40:01.858289Z",
     "shell.execute_reply": "2023-09-16T10:40:01.857430Z",
     "shell.execute_reply.started": "2023-09-16T10:40:01.828152Z"
    }
   },
   "outputs": [],
   "source": [
    "df.isna().sum()"
   ]
  },
  {
   "cell_type": "code",
   "execution_count": null,
   "metadata": {
    "execution": {
     "iopub.execute_input": "2023-09-16T10:40:01.860320Z",
     "iopub.status.busy": "2023-09-16T10:40:01.859831Z",
     "iopub.status.idle": "2023-09-16T10:40:01.873808Z",
     "shell.execute_reply": "2023-09-16T10:40:01.873016Z",
     "shell.execute_reply.started": "2023-09-16T10:40:01.860282Z"
    }
   },
   "outputs": [],
   "source": [
    "df.title.count()"
   ]
  },
  {
   "cell_type": "code",
   "execution_count": null,
   "metadata": {
    "execution": {
     "iopub.execute_input": "2023-09-16T10:40:01.875987Z",
     "iopub.status.busy": "2023-09-16T10:40:01.875666Z",
     "iopub.status.idle": "2023-09-16T10:40:01.900936Z",
     "shell.execute_reply": "2023-09-16T10:40:01.900044Z",
     "shell.execute_reply.started": "2023-09-16T10:40:01.875951Z"
    }
   },
   "outputs": [],
   "source": [
    "df.subject.value_counts()"
   ]
  },
  {
   "cell_type": "code",
   "execution_count": null,
   "metadata": {
    "execution": {
     "iopub.execute_input": "2023-09-16T10:40:01.904882Z",
     "iopub.status.busy": "2023-09-16T10:40:01.904636Z",
     "iopub.status.idle": "2023-09-16T10:40:02.400631Z",
     "shell.execute_reply": "2023-09-16T10:40:02.399898Z",
     "shell.execute_reply.started": "2023-09-16T10:40:01.904856Z"
    }
   },
   "outputs": [],
   "source": [
    "df['text'] = df['text'] + \" \" + df['title'] + \" \" + df['subject']\n",
    "del df['title']\n",
    "del df['subject']\n",
    "del df['date']"
   ]
  },
  {
   "cell_type": "code",
   "execution_count": null,
   "metadata": {
    "execution": {
     "iopub.execute_input": "2023-09-16T10:40:02.402445Z",
     "iopub.status.busy": "2023-09-16T10:40:02.402151Z",
     "iopub.status.idle": "2023-09-16T10:40:02.413298Z",
     "shell.execute_reply": "2023-09-16T10:40:02.412475Z",
     "shell.execute_reply.started": "2023-09-16T10:40:02.402409Z"
    }
   },
   "outputs": [],
   "source": [
    "df.head()"
   ]
  },
  {
   "cell_type": "markdown",
   "metadata": {},
   "source": [
    "# Remove noisy words from a text"
   ]
  },
  {
   "cell_type": "code",
   "execution_count": null,
   "metadata": {
    "execution": {
     "iopub.execute_input": "2023-09-16T10:40:02.415166Z",
     "iopub.status.busy": "2023-09-16T10:40:02.414675Z",
     "iopub.status.idle": "2023-09-16T10:40:02.427215Z",
     "shell.execute_reply": "2023-09-16T10:40:02.426553Z",
     "shell.execute_reply.started": "2023-09-16T10:40:02.415128Z"
    }
   },
   "outputs": [],
   "source": [
    "stop = set(stopwords.words('english'))\n",
    "punctuation = list(string.punctuation)\n",
    "stop.update(punctuation)"
   ]
  },
  {
   "cell_type": "code",
   "execution_count": null,
   "metadata": {
    "execution": {
     "iopub.execute_input": "2023-09-16T10:40:02.428840Z",
     "iopub.status.busy": "2023-09-16T10:40:02.428522Z",
     "iopub.status.idle": "2023-09-16T10:40:02.441818Z",
     "shell.execute_reply": "2023-09-16T10:40:02.440789Z",
     "shell.execute_reply.started": "2023-09-16T10:40:02.428802Z"
    }
   },
   "outputs": [],
   "source": [
    "stop"
   ]
  },
  {
   "cell_type": "markdown",
   "metadata": {},
   "source": [
    "# Stemming and lemmatization"
   ]
  },
  {
   "cell_type": "code",
   "execution_count": null,
   "metadata": {
    "execution": {
     "iopub.execute_input": "2023-09-16T10:40:02.444068Z",
     "iopub.status.busy": "2023-09-16T10:40:02.443521Z",
     "iopub.status.idle": "2023-09-16T10:40:02.451345Z",
     "shell.execute_reply": "2023-09-16T10:40:02.450680Z",
     "shell.execute_reply.started": "2023-09-16T10:40:02.444029Z"
    }
   },
   "outputs": [],
   "source": [
    "stemmer = PorterStemmer()\n",
    "def stem_text(text):\n",
    "    final_text = []\n",
    "    for i in text.split():\n",
    "        if i.strip().lower() not in stop:\n",
    "            word = stemmer.stem(i.strip())\n",
    "            final_text.append(word)\n",
    "    return \" \".join(final_text)    "
   ]
  },
  {
   "cell_type": "code",
   "execution_count": null,
   "metadata": {
    "execution": {
     "iopub.execute_input": "2023-09-16T10:40:02.454410Z",
     "iopub.status.busy": "2023-09-16T10:40:02.454044Z",
     "iopub.status.idle": "2023-09-16T10:47:04.451750Z",
     "shell.execute_reply": "2023-09-16T10:47:04.450913Z",
     "shell.execute_reply.started": "2023-09-16T10:40:02.454375Z"
    }
   },
   "outputs": [],
   "source": [
    "df.text = df.text.apply(stem_text)"
   ]
  },
  {
   "cell_type": "markdown",
   "metadata": {},
   "source": [
    "# Generating Word Cloud"
   ]
  },
  {
   "cell_type": "code",
   "execution_count": null,
   "metadata": {
    "execution": {
     "iopub.execute_input": "2023-09-16T10:47:04.453603Z",
     "iopub.status.busy": "2023-09-16T10:47:04.453300Z",
     "iopub.status.idle": "2023-09-16T10:48:43.535703Z",
     "shell.execute_reply": "2023-09-16T10:48:43.534746Z",
     "shell.execute_reply.started": "2023-09-16T10:47:04.453568Z"
    }
   },
   "outputs": [],
   "source": [
    "plt.figure(figsize = (20,20))\n",
    "wc = WordCloud(max_words = 3000 , width = 1600 , height = 800 , stopwords = STOPWORDS).generate(\" \".join(df.text))\n",
    "plt.imshow(wc , interpolation = 'bilinear')"
   ]
  },
  {
   "cell_type": "markdown",
   "metadata": {},
   "source": [
    "# Spliting training and testing data"
   ]
  },
  {
   "cell_type": "code",
   "execution_count": null,
   "metadata": {
    "execution": {
     "iopub.execute_input": "2023-09-16T10:48:43.537153Z",
     "iopub.status.busy": "2023-09-16T10:48:43.536872Z",
     "iopub.status.idle": "2023-09-16T10:48:43.553547Z",
     "shell.execute_reply": "2023-09-16T10:48:43.552534Z",
     "shell.execute_reply.started": "2023-09-16T10:48:43.537120Z"
    }
   },
   "outputs": [],
   "source": [
    "x_train,x_test,y_train,y_test = train_test_split(df.text,df.category)"
   ]
  },
  {
   "cell_type": "markdown",
   "metadata": {},
   "source": [
    "# Text-2-Vector conversion "
   ]
  },
  {
   "cell_type": "code",
   "execution_count": null,
   "metadata": {
    "execution": {
     "iopub.execute_input": "2023-09-16T10:48:43.555591Z",
     "iopub.status.busy": "2023-09-16T10:48:43.555050Z",
     "iopub.status.idle": "2023-09-16T10:49:32.906954Z",
     "shell.execute_reply": "2023-09-16T10:49:32.905027Z",
     "shell.execute_reply.started": "2023-09-16T10:48:43.555553Z"
    }
   },
   "outputs": [],
   "source": [
    "cv=CountVectorizer(min_df=0,max_df=1,ngram_range=(1,2))\n",
    "#transformed train reviews\n",
    "cv_train_reviews=cv.fit_transform(x_train)\n",
    "#transformed test reviews\n",
    "cv_test_reviews=cv.transform(x_test)\n",
    "\n",
    "print('BOW_cv_train:',cv_train_reviews.shape)\n",
    "print('BOW_cv_test:',cv_test_reviews.shape)"
   ]
  },
  {
   "cell_type": "markdown",
   "metadata": {},
   "source": [
    "# Define the model"
   ]
  },
  {
   "cell_type": "code",
   "execution_count": null,
   "metadata": {
    "execution": {
     "iopub.execute_input": "2023-09-16T10:49:32.908573Z",
     "iopub.status.busy": "2023-09-16T10:49:32.908287Z",
     "iopub.status.idle": "2023-09-16T10:49:35.143324Z",
     "shell.execute_reply": "2023-09-16T10:49:35.142448Z",
     "shell.execute_reply.started": "2023-09-16T10:49:32.908544Z"
    }
   },
   "outputs": [],
   "source": [
    "model = Sequential()\n",
    "model.add(Dense(units = 100 , activation = 'relu' , input_dim = cv_train_reviews.shape[1]))\n",
    "model.add(Dense(units = 50 , activation = 'relu'))\n",
    "model.add(Dense(units = 25 , activation = 'relu'))\n",
    "model.add(Dense(units = 10 , activation = 'relu'))\n",
    "model.add(Dense(units = 1 , activation = 'sigmoid'))"
   ]
  },
  {
   "cell_type": "markdown",
   "metadata": {},
   "source": [
    "# Compile the model"
   ]
  },
  {
   "cell_type": "code",
   "execution_count": null,
   "metadata": {
    "execution": {
     "iopub.execute_input": "2023-09-16T10:49:35.145195Z",
     "iopub.status.busy": "2023-09-16T10:49:35.144887Z",
     "iopub.status.idle": "2023-09-16T10:49:35.186215Z",
     "shell.execute_reply": "2023-09-16T10:49:35.185403Z",
     "shell.execute_reply.started": "2023-09-16T10:49:35.145155Z"
    }
   },
   "outputs": [],
   "source": [
    "model.compile(optimizer = 'adam' , loss = 'binary_crossentropy' , metrics = ['accuracy'])"
   ]
  },
  {
   "cell_type": "markdown",
   "metadata": {},
   "source": [
    "# Fit the model"
   ]
  },
  {
   "cell_type": "code",
   "execution_count": null,
   "metadata": {
    "execution": {
     "iopub.execute_input": "2023-09-16T10:49:35.187947Z",
     "iopub.status.busy": "2023-09-16T10:49:35.187652Z",
     "iopub.status.idle": "2023-09-16T11:39:56.933431Z",
     "shell.execute_reply": "2023-09-16T11:39:56.932572Z",
     "shell.execute_reply.started": "2023-09-16T10:49:35.187911Z"
    }
   },
   "outputs": [],
   "source": [
    "model.fit(cv_train_reviews,y_train , epochs = 5)"
   ]
  },
  {
   "cell_type": "markdown",
   "metadata": {},
   "source": [
    "# Prediction and Accuracy"
   ]
  },
  {
   "cell_type": "code",
   "execution_count": null,
   "metadata": {
    "execution": {
     "iopub.execute_input": "2023-09-16T11:39:56.935721Z",
     "iopub.status.busy": "2023-09-16T11:39:56.935000Z",
     "iopub.status.idle": "2023-09-16T11:42:57.557657Z",
     "shell.execute_reply": "2023-09-16T11:42:57.556710Z",
     "shell.execute_reply.started": "2023-09-16T11:39:56.935664Z"
    }
   },
   "outputs": [],
   "source": [
    "pred = model.predict(cv_test_reviews)"
   ]
  },
  {
   "cell_type": "code",
   "execution_count": null,
   "metadata": {
    "execution": {
     "iopub.execute_input": "2023-09-16T11:42:57.559485Z",
     "iopub.status.busy": "2023-09-16T11:42:57.559187Z",
     "iopub.status.idle": "2023-09-16T11:42:57.600092Z",
     "shell.execute_reply": "2023-09-16T11:42:57.599292Z",
     "shell.execute_reply.started": "2023-09-16T11:42:57.559449Z"
    }
   },
   "outputs": [],
   "source": [
    "for i in range(len(pred)):\n",
    "    if(pred[i] > 0.5):\n",
    "        pred[i] = 1\n",
    "    else:\n",
    "        pred[i] = 0"
   ]
  },
  {
   "cell_type": "code",
   "execution_count": null,
   "metadata": {
    "execution": {
     "iopub.execute_input": "2023-09-16T11:42:57.601852Z",
     "iopub.status.busy": "2023-09-16T11:42:57.601391Z",
     "iopub.status.idle": "2023-09-16T11:42:57.611392Z",
     "shell.execute_reply": "2023-09-16T11:42:57.610504Z",
     "shell.execute_reply.started": "2023-09-16T11:42:57.601801Z"
    }
   },
   "outputs": [],
   "source": [
    "accuracy_score(pred,y_test)"
   ]
  },
  {
   "cell_type": "markdown",
   "metadata": {},
   "source": [
    "# Evaluation"
   ]
  },
  {
   "cell_type": "code",
   "execution_count": null,
   "metadata": {
    "execution": {
     "iopub.execute_input": "2023-09-16T11:42:57.613209Z",
     "iopub.status.busy": "2023-09-16T11:42:57.612898Z",
     "iopub.status.idle": "2023-09-16T11:42:57.652848Z",
     "shell.execute_reply": "2023-09-16T11:42:57.651846Z",
     "shell.execute_reply.started": "2023-09-16T11:42:57.613174Z"
    }
   },
   "outputs": [],
   "source": [
    "cv_report = classification_report(y_test,pred,target_names = ['0','1'])\n",
    "print(cv_report)"
   ]
  },
  {
   "cell_type": "markdown",
   "metadata": {},
   "source": [
    "# Confusion Matrix"
   ]
  },
  {
   "cell_type": "code",
   "execution_count": null,
   "metadata": {
    "execution": {
     "iopub.execute_input": "2023-09-16T11:42:57.654406Z",
     "iopub.status.busy": "2023-09-16T11:42:57.654129Z",
     "iopub.status.idle": "2023-09-16T11:42:57.718840Z",
     "shell.execute_reply": "2023-09-16T11:42:57.718040Z",
     "shell.execute_reply.started": "2023-09-16T11:42:57.654371Z"
    }
   },
   "outputs": [],
   "source": [
    "cm_cv = confusion_matrix(y_test,pred)\n",
    "cm_cv"
   ]
  },
  {
   "cell_type": "code",
   "execution_count": null,
   "metadata": {
    "execution": {
     "iopub.execute_input": "2023-09-16T11:42:57.720338Z",
     "iopub.status.busy": "2023-09-16T11:42:57.720035Z",
     "iopub.status.idle": "2023-09-16T11:42:57.726547Z",
     "shell.execute_reply": "2023-09-16T11:42:57.725337Z",
     "shell.execute_reply.started": "2023-09-16T11:42:57.720291Z"
    }
   },
   "outputs": [],
   "source": [
    "cm_cv = pd.DataFrame(cm_cv, index=[0,1], columns=[0,1])\n",
    "cm_cv.index.name = 'Actual'\n",
    "cm_cv.columns.name = 'Predicted'"
   ]
  },
  {
   "cell_type": "code",
   "execution_count": null,
   "metadata": {
    "execution": {
     "iopub.execute_input": "2023-09-16T11:42:57.728514Z",
     "iopub.status.busy": "2023-09-16T11:42:57.728141Z",
     "iopub.status.idle": "2023-09-16T11:42:57.982659Z",
     "shell.execute_reply": "2023-09-16T11:42:57.981889Z",
     "shell.execute_reply.started": "2023-09-16T11:42:57.728478Z"
    }
   },
   "outputs": [],
   "source": [
    "plt.figure(figsize = (10,10))\n",
    "sns.heatmap(cm_cv,cmap= \"Blues\",annot = True, fmt='')"
   ]
  }
 ],
 "metadata": {
  "kaggle": {
   "accelerator": "gpu",
   "dataSources": [
    {
     "datasetId": 572515,
     "sourceId": 1037534,
     "sourceType": "datasetVersion"
    }
   ],
   "dockerImageVersionId": 29869,
   "isGpuEnabled": true,
   "isInternetEnabled": true,
   "language": "python",
   "sourceType": "notebook"
  },
  "kernelspec": {
   "display_name": "Python 3 (ipykernel)",
   "language": "python",
   "name": "python3"
  },
  "language_info": {
   "codemirror_mode": {
    "name": "ipython",
    "version": 3
   },
   "file_extension": ".py",
   "mimetype": "text/x-python",
   "name": "python",
   "nbconvert_exporter": "python",
   "pygments_lexer": "ipython3",
   "version": "3.11.3"
  }
 },
 "nbformat": 4,
 "nbformat_minor": 4
}
