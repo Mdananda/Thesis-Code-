{
 "cells": [
  {
   "cell_type": "code",
   "execution_count": 1,
   "metadata": {
    "_cell_guid": "b1076dfc-b9ad-4769-8c92-a6c4dae69d19",
    "_uuid": "8f2839f25d086af736a60e9eeb907d3b93b6e0e5",
    "execution": {
     "iopub.execute_input": "2022-10-01T14:22:06.105727Z",
     "iopub.status.busy": "2022-10-01T14:22:06.105367Z",
     "iopub.status.idle": "2022-10-01T14:22:14.003329Z",
     "shell.execute_reply": "2022-10-01T14:22:14.002454Z",
     "shell.execute_reply.started": "2022-10-01T14:22:06.105612Z"
    }
   },
   "outputs": [
    {
     "name": "stdout",
     "output_type": "stream",
     "text": [
      "Defaulting to user installation because normal site-packages is not writeable\n",
      "Requirement already satisfied: transformers in c:\\programdata\\anaconda3\\lib\\site-packages (2.1.1)\n",
      "Requirement already satisfied: numpy in c:\\programdata\\anaconda3\\lib\\site-packages (from transformers) (1.24.3)\n",
      "Requirement already satisfied: boto3 in c:\\programdata\\anaconda3\\lib\\site-packages (from transformers) (1.24.28)\n",
      "Requirement already satisfied: requests in c:\\programdata\\anaconda3\\lib\\site-packages (from transformers) (2.29.0)\n",
      "Requirement already satisfied: tqdm in c:\\programdata\\anaconda3\\lib\\site-packages (from transformers) (4.65.0)\n",
      "Requirement already satisfied: regex in c:\\programdata\\anaconda3\\lib\\site-packages (from transformers) (2022.7.9)\n",
      "Collecting sentencepiece (from transformers)\n",
      "  Downloading sentencepiece-0.1.99-cp311-cp311-win_amd64.whl (977 kB)\n",
      "                                              0.0/977.5 kB ? eta -:--:--\n",
      "     -                                        30.7/977.5 kB ? eta -:--:--\n",
      "     -                                     41.0/977.5 kB 495.5 kB/s eta 0:00:02\n",
      "     --                                    71.7/977.5 kB 563.7 kB/s eta 0:00:02\n",
      "     ---                                   92.2/977.5 kB 525.1 kB/s eta 0:00:02\n",
      "     ---                                   92.2/977.5 kB 525.1 kB/s eta 0:00:02\n",
      "     ---                                   92.2/977.5 kB 525.1 kB/s eta 0:00:02\n",
      "     ---                                   92.2/977.5 kB 525.1 kB/s eta 0:00:02\n",
      "     ---                                   92.2/977.5 kB 525.1 kB/s eta 0:00:02\n",
      "     -----                                153.6/977.5 kB 340.5 kB/s eta 0:00:03\n",
      "     -----                                153.6/977.5 kB 340.5 kB/s eta 0:00:03\n",
      "     -----                                153.6/977.5 kB 340.5 kB/s eta 0:00:03\n",
      "     -----                                153.6/977.5 kB 340.5 kB/s eta 0:00:03\n",
      "     -----                                153.6/977.5 kB 340.5 kB/s eta 0:00:03\n",
      "     --------                             235.5/977.5 kB 360.4 kB/s eta 0:00:03\n",
      "     --------                             235.5/977.5 kB 360.4 kB/s eta 0:00:03\n",
      "     ----------                           286.7/977.5 kB 376.7 kB/s eta 0:00:02\n",
      "     -----------                          307.2/977.5 kB 380.2 kB/s eta 0:00:02\n",
      "     -------------                        358.4/977.5 kB 413.0 kB/s eta 0:00:02\n",
      "     -------------                        358.4/977.5 kB 413.0 kB/s eta 0:00:02\n",
      "     -------------                        368.6/977.5 kB 402.7 kB/s eta 0:00:02\n",
      "     --------------                       389.1/977.5 kB 391.4 kB/s eta 0:00:02\n",
      "     -----------------                    471.0/977.5 kB 454.0 kB/s eta 0:00:02\n",
      "     -------------------                  532.5/977.5 kB 484.5 kB/s eta 0:00:01\n",
      "     ----------------------               614.4/977.5 kB 537.0 kB/s eta 0:00:01\n",
      "     --------------------------           706.6/977.5 kB 594.6 kB/s eta 0:00:01\n",
      "     -----------------------------        798.7/977.5 kB 647.4 kB/s eta 0:00:01\n",
      "     ---------------------------------    911.4/977.5 kB 712.3 kB/s eta 0:00:01\n",
      "     ------------------------------------ 977.5/977.5 kB 728.4 kB/s eta 0:00:00\n",
      "Requirement already satisfied: sacremoses in c:\\programdata\\anaconda3\\lib\\site-packages (from transformers) (0.0.43)\n",
      "Requirement already satisfied: botocore<1.28.0,>=1.27.28 in c:\\programdata\\anaconda3\\lib\\site-packages (from boto3->transformers) (1.27.59)\n",
      "Requirement already satisfied: jmespath<2.0.0,>=0.7.1 in c:\\programdata\\anaconda3\\lib\\site-packages (from boto3->transformers) (0.10.0)\n",
      "Requirement already satisfied: s3transfer<0.7.0,>=0.6.0 in c:\\programdata\\anaconda3\\lib\\site-packages (from boto3->transformers) (0.6.0)\n",
      "Requirement already satisfied: charset-normalizer<4,>=2 in c:\\programdata\\anaconda3\\lib\\site-packages (from requests->transformers) (2.0.4)\n",
      "Requirement already satisfied: idna<4,>=2.5 in c:\\programdata\\anaconda3\\lib\\site-packages (from requests->transformers) (3.4)\n",
      "Requirement already satisfied: urllib3<1.27,>=1.21.1 in c:\\programdata\\anaconda3\\lib\\site-packages (from requests->transformers) (1.26.16)\n",
      "Requirement already satisfied: certifi>=2017.4.17 in c:\\programdata\\anaconda3\\lib\\site-packages (from requests->transformers) (2023.7.22)\n",
      "Requirement already satisfied: six in c:\\programdata\\anaconda3\\lib\\site-packages (from sacremoses->transformers) (1.16.0)\n",
      "Requirement already satisfied: click in c:\\programdata\\anaconda3\\lib\\site-packages (from sacremoses->transformers) (8.0.4)\n",
      "Requirement already satisfied: joblib in c:\\programdata\\anaconda3\\lib\\site-packages (from sacremoses->transformers) (1.2.0)\n",
      "Requirement already satisfied: colorama in c:\\programdata\\anaconda3\\lib\\site-packages (from tqdm->transformers) (0.4.6)\n",
      "Requirement already satisfied: python-dateutil<3.0.0,>=2.1 in c:\\programdata\\anaconda3\\lib\\site-packages (from botocore<1.28.0,>=1.27.28->boto3->transformers) (2.8.2)\n",
      "Installing collected packages: sentencepiece\n",
      "Successfully installed sentencepiece-0.1.99\n"
     ]
    }
   ],
   "source": [
    "! pip install transformers"
   ]
  },
  {
   "cell_type": "code",
   "execution_count": 4,
   "metadata": {
    "execution": {
     "iopub.execute_input": "2022-10-01T14:22:14.00577Z",
     "iopub.status.busy": "2022-10-01T14:22:14.005309Z",
     "iopub.status.idle": "2022-10-01T14:22:24.449198Z",
     "shell.execute_reply": "2022-10-01T14:22:24.448424Z",
     "shell.execute_reply.started": "2022-10-01T14:22:14.005728Z"
    }
   },
   "outputs": [
    {
     "ename": "ImportError",
     "evalue": "cannot import name 'BertModel' from 'transformers' (C:\\ProgramData\\anaconda3\\Lib\\site-packages\\transformers\\__init__.py)",
     "output_type": "error",
     "traceback": [
      "\u001b[1;31m---------------------------------------------------------------------------\u001b[0m",
      "\u001b[1;31mImportError\u001b[0m                               Traceback (most recent call last)",
      "Cell \u001b[1;32mIn[4], line 5\u001b[0m\n\u001b[0;32m      3\u001b[0m \u001b[38;5;28;01mfrom\u001b[39;00m \u001b[38;5;21;01mtensorflow\u001b[39;00m\u001b[38;5;21;01m.\u001b[39;00m\u001b[38;5;21;01mkeras\u001b[39;00m\u001b[38;5;21;01m.\u001b[39;00m\u001b[38;5;21;01mcallbacks\u001b[39;00m \u001b[38;5;28;01mimport\u001b[39;00m EarlyStopping\n\u001b[0;32m      4\u001b[0m \u001b[38;5;28;01mfrom\u001b[39;00m \u001b[38;5;21;01mtensorflow\u001b[39;00m\u001b[38;5;21;01m.\u001b[39;00m\u001b[38;5;21;01mpython\u001b[39;00m\u001b[38;5;21;01m.\u001b[39;00m\u001b[38;5;21;01mops\u001b[39;00m\u001b[38;5;21;01m.\u001b[39;00m\u001b[38;5;21;01mnumpy_ops\u001b[39;00m \u001b[38;5;28;01mimport\u001b[39;00m np_utils\n\u001b[1;32m----> 5\u001b[0m \u001b[38;5;28;01mfrom\u001b[39;00m \u001b[38;5;21;01mtransformers\u001b[39;00m \u001b[38;5;28;01mimport\u001b[39;00m BertModel, TFBertModel \n\u001b[0;32m      6\u001b[0m \u001b[38;5;28;01mimport\u001b[39;00m \u001b[38;5;21;01mtensorflow\u001b[39;00m \u001b[38;5;28;01mas\u001b[39;00m \u001b[38;5;21;01mtf\u001b[39;00m\n\u001b[0;32m      7\u001b[0m \u001b[38;5;28;01mfrom\u001b[39;00m \u001b[38;5;21;01mtensorflow\u001b[39;00m\u001b[38;5;21;01m.\u001b[39;00m\u001b[38;5;21;01mkeras\u001b[39;00m\u001b[38;5;21;01m.\u001b[39;00m\u001b[38;5;21;01moptimizers\u001b[39;00m \u001b[38;5;28;01mimport\u001b[39;00m Adam\n",
      "\u001b[1;31mImportError\u001b[0m: cannot import name 'BertModel' from 'transformers' (C:\\ProgramData\\anaconda3\\Lib\\site-packages\\transformers\\__init__.py)"
     ]
    }
   ],
   "source": [
    "from tensorflow.keras.models import Model, Sequential\n",
    "from tensorflow.keras.layers import Dense, Dropout, Flatten, Conv2D, MaxPooling2D,Input\n",
    "from tensorflow.keras.callbacks import EarlyStopping\n",
    "from tensorflow.python.ops.numpy_ops import np_utils\n",
    "from transformers import BertModel, TFBertModel \n",
    "import tensorflow as tf\n",
    "from tensorflow.keras.optimizers import Adam\n",
    "from transformers import BertTokenizer, TFBertModel\n",
    "from tensorflow.keras import regularizers\n",
    "from sklearn.metrics import classification_report\n",
    "from sklearn.metrics import confusion_matrix"
   ]
  },
  {
   "cell_type": "code",
   "execution_count": null,
   "metadata": {
    "execution": {
     "iopub.execute_input": "2022-10-01T14:22:24.450777Z",
     "iopub.status.busy": "2022-10-01T14:22:24.450492Z",
     "iopub.status.idle": "2022-10-01T14:22:24.730965Z",
     "shell.execute_reply": "2022-10-01T14:22:24.730213Z",
     "shell.execute_reply.started": "2022-10-01T14:22:24.450742Z"
    }
   },
   "outputs": [],
   "source": [
    "import pandas as pd\n",
    "from matplotlib import rcParams\n",
    "import seaborn as sns\n",
    "import numpy as np\n",
    "from PIL import Image\n",
    "from wordcloud import WordCloud\n",
    "from sklearn.model_selection import train_test_split\n",
    "from matplotlib import pyplot as plt\n",
    "from transformers import AutoTokenizer"
   ]
  },
  {
   "cell_type": "markdown",
   "metadata": {},
   "source": [
    "Load dataset"
   ]
  },
  {
   "cell_type": "code",
   "execution_count": null,
   "metadata": {
    "execution": {
     "iopub.execute_input": "2022-10-01T14:22:24.733151Z",
     "iopub.status.busy": "2022-10-01T14:22:24.73288Z",
     "iopub.status.idle": "2022-10-01T14:22:27.445495Z",
     "shell.execute_reply": "2022-10-01T14:22:27.444621Z",
     "shell.execute_reply.started": "2022-10-01T14:22:24.733117Z"
    }
   },
   "outputs": [],
   "source": [
    "fake_data=pd.read_csv(\"Fake.csv\")\n",
    "real_data=pd.read_csv(\"True.csv\")"
   ]
  },
  {
   "cell_type": "markdown",
   "metadata": {},
   "source": [
    "Data Analysis"
   ]
  },
  {
   "cell_type": "code",
   "execution_count": null,
   "metadata": {
    "execution": {
     "iopub.execute_input": "2022-10-01T14:22:27.447227Z",
     "iopub.status.busy": "2022-10-01T14:22:27.446963Z",
     "iopub.status.idle": "2022-10-01T14:22:27.469424Z",
     "shell.execute_reply": "2022-10-01T14:22:27.46862Z",
     "shell.execute_reply.started": "2022-10-01T14:22:27.447185Z"
    }
   },
   "outputs": [],
   "source": [
    "fake_data.head()"
   ]
  },
  {
   "cell_type": "code",
   "execution_count": null,
   "metadata": {
    "execution": {
     "iopub.execute_input": "2022-10-01T14:22:27.470647Z",
     "iopub.status.busy": "2022-10-01T14:22:27.470425Z",
     "iopub.status.idle": "2022-10-01T14:22:27.481381Z",
     "shell.execute_reply": "2022-10-01T14:22:27.480738Z",
     "shell.execute_reply.started": "2022-10-01T14:22:27.470623Z"
    }
   },
   "outputs": [],
   "source": [
    "real_data.head()"
   ]
  },
  {
   "cell_type": "code",
   "execution_count": null,
   "metadata": {
    "execution": {
     "iopub.execute_input": "2022-10-01T14:22:27.483599Z",
     "iopub.status.busy": "2022-10-01T14:22:27.482861Z",
     "iopub.status.idle": "2022-10-01T14:22:27.712975Z",
     "shell.execute_reply": "2022-10-01T14:22:27.71221Z",
     "shell.execute_reply.started": "2022-10-01T14:22:27.483565Z"
    }
   },
   "outputs": [],
   "source": [
    "real_data['subject'].value_counts().plot(kind='barh')\n",
    "rcParams['figure.figsize'] = 5,5\n",
    "    "
   ]
  },
  {
   "cell_type": "code",
   "execution_count": null,
   "metadata": {
    "execution": {
     "iopub.execute_input": "2022-10-01T14:22:27.716027Z",
     "iopub.status.busy": "2022-10-01T14:22:27.715829Z",
     "iopub.status.idle": "2022-10-01T14:22:27.934196Z",
     "shell.execute_reply": "2022-10-01T14:22:27.933522Z",
     "shell.execute_reply.started": "2022-10-01T14:22:27.715997Z"
    }
   },
   "outputs": [],
   "source": [
    "fake_data['subject'].value_counts().plot(kind='barh')\n",
    "rcParams['figure.figsize'] = 5,5"
   ]
  },
  {
   "cell_type": "markdown",
   "metadata": {},
   "source": [
    "wordcloud real text data"
   ]
  },
  {
   "cell_type": "code",
   "execution_count": null,
   "metadata": {
    "execution": {
     "iopub.execute_input": "2022-10-01T14:22:27.93574Z",
     "iopub.status.busy": "2022-10-01T14:22:27.935441Z",
     "iopub.status.idle": "2022-10-01T14:22:28.084758Z",
     "shell.execute_reply": "2022-10-01T14:22:28.083973Z",
     "shell.execute_reply.started": "2022-10-01T14:22:27.9357Z"
    }
   },
   "outputs": [],
   "source": [
    "wordcld_mask=np.array(Image.open(\"../input/wodcloud-twiter-pic/twitter.png\"))"
   ]
  },
  {
   "cell_type": "code",
   "execution_count": null,
   "metadata": {
    "execution": {
     "iopub.execute_input": "2022-10-01T14:22:28.088182Z",
     "iopub.status.busy": "2022-10-01T14:22:28.087925Z",
     "iopub.status.idle": "2022-10-01T14:22:28.169432Z",
     "shell.execute_reply": "2022-10-01T14:22:28.168219Z",
     "shell.execute_reply.started": "2022-10-01T14:22:28.088151Z"
    }
   },
   "outputs": [],
   "source": [
    "wordcld_text=\" \".join(real_data[\"text\"].tolist())"
   ]
  },
  {
   "cell_type": "code",
   "execution_count": null,
   "metadata": {
    "execution": {
     "iopub.execute_input": "2022-10-01T14:22:28.171782Z",
     "iopub.status.busy": "2022-10-01T14:22:28.171165Z",
     "iopub.status.idle": "2022-10-01T14:23:03.767057Z",
     "shell.execute_reply": "2022-10-01T14:23:03.766411Z",
     "shell.execute_reply.started": "2022-10-01T14:22:28.171744Z"
    }
   },
   "outputs": [],
   "source": [
    "wordcloud=WordCloud(width=1920,height=1080,mask=wordcld_mask).generate(wordcld_text)\n",
    "fig=plt.figure(figsize=(8,8))\n",
    "plt.imshow(wordcloud)\n",
    "plt.axis(\"off\")\n",
    "plt.tight_layout(pad=0)\n",
    "plt.show()"
   ]
  },
  {
   "cell_type": "markdown",
   "metadata": {},
   "source": [
    "wordcloud fake text data"
   ]
  },
  {
   "cell_type": "code",
   "execution_count": null,
   "metadata": {
    "execution": {
     "iopub.execute_input": "2022-10-01T14:23:03.768256Z",
     "iopub.status.busy": "2022-10-01T14:23:03.768031Z",
     "iopub.status.idle": "2022-10-01T14:23:03.81763Z",
     "shell.execute_reply": "2022-10-01T14:23:03.816777Z",
     "shell.execute_reply.started": "2022-10-01T14:23:03.768226Z"
    }
   },
   "outputs": [],
   "source": [
    "fake_text=\" \".join(fake_data[\"text\"].tolist())"
   ]
  },
  {
   "cell_type": "code",
   "execution_count": null,
   "metadata": {
    "execution": {
     "iopub.execute_input": "2022-10-01T14:23:03.819816Z",
     "iopub.status.busy": "2022-10-01T14:23:03.819246Z",
     "iopub.status.idle": "2022-10-01T14:23:44.004641Z",
     "shell.execute_reply": "2022-10-01T14:23:44.003934Z",
     "shell.execute_reply.started": "2022-10-01T14:23:03.819778Z"
    }
   },
   "outputs": [],
   "source": [
    "wordcloud=WordCloud(width=1920,height=1080,mask=wordcld_mask).generate(fake_text)\n",
    "fig=plt.figure(figsize=(8,8))\n",
    "plt.imshow(wordcloud)\n",
    "plt.axis(\"off\")\n",
    "plt.tight_layout(pad=0)\n",
    "plt.show()"
   ]
  },
  {
   "cell_type": "code",
   "execution_count": null,
   "metadata": {
    "execution": {
     "iopub.execute_input": "2022-10-01T14:23:44.009197Z",
     "iopub.status.busy": "2022-10-01T14:23:44.008201Z",
     "iopub.status.idle": "2022-10-01T14:23:44.019384Z",
     "shell.execute_reply": "2022-10-01T14:23:44.018571Z",
     "shell.execute_reply.started": "2022-10-01T14:23:44.009153Z"
    }
   },
   "outputs": [],
   "source": [
    "fake_data[\"label\"]=\"fake\"\n",
    "real_data[\"label\"]=\"real\""
   ]
  },
  {
   "cell_type": "code",
   "execution_count": null,
   "metadata": {
    "execution": {
     "iopub.execute_input": "2022-10-01T14:23:44.023212Z",
     "iopub.status.busy": "2022-10-01T14:23:44.022533Z",
     "iopub.status.idle": "2022-10-01T14:23:44.043367Z",
     "shell.execute_reply": "2022-10-01T14:23:44.042759Z",
     "shell.execute_reply.started": "2022-10-01T14:23:44.023175Z"
    }
   },
   "outputs": [],
   "source": [
    "final_data= pd.concat([fake_data,real_data])"
   ]
  },
  {
   "cell_type": "code",
   "execution_count": null,
   "metadata": {
    "execution": {
     "iopub.execute_input": "2022-10-01T14:23:44.048927Z",
     "iopub.status.busy": "2022-10-01T14:23:44.047143Z",
     "iopub.status.idle": "2022-10-01T14:23:44.067191Z",
     "shell.execute_reply": "2022-10-01T14:23:44.06625Z",
     "shell.execute_reply.started": "2022-10-01T14:23:44.048885Z"
    }
   },
   "outputs": [],
   "source": [
    "final_data = final_data.sample(frac=1).reset_index(drop=True)"
   ]
  },
  {
   "cell_type": "code",
   "execution_count": null,
   "metadata": {
    "execution": {
     "iopub.execute_input": "2022-10-01T14:23:44.072707Z",
     "iopub.status.busy": "2022-10-01T14:23:44.070867Z",
     "iopub.status.idle": "2022-10-01T14:23:44.092479Z",
     "shell.execute_reply": "2022-10-01T14:23:44.091907Z",
     "shell.execute_reply.started": "2022-10-01T14:23:44.072641Z"
    }
   },
   "outputs": [],
   "source": [
    "final_data.head(10)"
   ]
  },
  {
   "cell_type": "code",
   "execution_count": null,
   "metadata": {
    "execution": {
     "iopub.execute_input": "2022-10-01T14:23:44.097897Z",
     "iopub.status.busy": "2022-10-01T14:23:44.095804Z",
     "iopub.status.idle": "2022-10-01T14:23:44.127387Z",
     "shell.execute_reply": "2022-10-01T14:23:44.126705Z",
     "shell.execute_reply.started": "2022-10-01T14:23:44.096332Z"
    }
   },
   "outputs": [],
   "source": [
    "final_data.isnull().sum()"
   ]
  },
  {
   "cell_type": "code",
   "execution_count": null,
   "metadata": {
    "execution": {
     "iopub.execute_input": "2022-10-01T14:23:44.133016Z",
     "iopub.status.busy": "2022-10-01T14:23:44.130894Z",
     "iopub.status.idle": "2022-10-01T14:23:44.155077Z",
     "shell.execute_reply": "2022-10-01T14:23:44.154391Z",
     "shell.execute_reply.started": "2022-10-01T14:23:44.132978Z"
    }
   },
   "outputs": [],
   "source": [
    "final_data.drop([\"subject\",\"date\"], axis=1)"
   ]
  },
  {
   "cell_type": "code",
   "execution_count": null,
   "metadata": {
    "execution": {
     "iopub.execute_input": "2022-10-01T14:23:44.160289Z",
     "iopub.status.busy": "2022-10-01T14:23:44.158205Z",
     "iopub.status.idle": "2022-10-01T14:23:44.176911Z",
     "shell.execute_reply": "2022-10-01T14:23:44.17631Z",
     "shell.execute_reply.started": "2022-10-01T14:23:44.160215Z"
    }
   },
   "outputs": [],
   "source": [
    "final_data.head()"
   ]
  },
  {
   "cell_type": "code",
   "execution_count": null,
   "metadata": {
    "execution": {
     "iopub.execute_input": "2022-10-01T14:23:44.180376Z",
     "iopub.status.busy": "2022-10-01T14:23:44.180019Z",
     "iopub.status.idle": "2022-10-01T14:23:44.19876Z",
     "shell.execute_reply": "2022-10-01T14:23:44.198054Z",
     "shell.execute_reply.started": "2022-10-01T14:23:44.180343Z"
    }
   },
   "outputs": [],
   "source": [
    "final_data.label.value_counts()"
   ]
  },
  {
   "cell_type": "code",
   "execution_count": null,
   "metadata": {
    "execution": {
     "iopub.execute_input": "2022-10-01T14:23:44.202743Z",
     "iopub.status.busy": "2022-10-01T14:23:44.202362Z",
     "iopub.status.idle": "2022-10-01T14:23:44.498006Z",
     "shell.execute_reply": "2022-10-01T14:23:44.497294Z",
     "shell.execute_reply.started": "2022-10-01T14:23:44.202711Z"
    }
   },
   "outputs": [],
   "source": [
    "sns.set_theme(style=\"whitegrid\")\n",
    "sns.countplot(x=final_data[\"label\"])"
   ]
  },
  {
   "cell_type": "code",
   "execution_count": null,
   "metadata": {
    "execution": {
     "iopub.execute_input": "2022-10-01T14:23:44.499733Z",
     "iopub.status.busy": "2022-10-01T14:23:44.499325Z",
     "iopub.status.idle": "2022-10-01T14:23:44.513506Z",
     "shell.execute_reply": "2022-10-01T14:23:44.512585Z",
     "shell.execute_reply.started": "2022-10-01T14:23:44.499696Z"
    }
   },
   "outputs": [],
   "source": [
    "final_data.head(5)"
   ]
  },
  {
   "cell_type": "code",
   "execution_count": null,
   "metadata": {
    "execution": {
     "iopub.execute_input": "2022-10-01T14:23:44.51654Z",
     "iopub.status.busy": "2022-10-01T14:23:44.516343Z",
     "iopub.status.idle": "2022-10-01T14:23:44.670132Z",
     "shell.execute_reply": "2022-10-01T14:23:44.669385Z",
     "shell.execute_reply.started": "2022-10-01T14:23:44.516517Z"
    }
   },
   "outputs": [],
   "source": [
    "final_data[\"text\"]=final_data[\"title\"]+final_data[\"text\"]"
   ]
  },
  {
   "cell_type": "code",
   "execution_count": null,
   "metadata": {
    "execution": {
     "iopub.execute_input": "2022-10-01T14:23:44.67146Z",
     "iopub.status.busy": "2022-10-01T14:23:44.671206Z",
     "iopub.status.idle": "2022-10-01T14:23:44.680404Z",
     "shell.execute_reply": "2022-10-01T14:23:44.679636Z",
     "shell.execute_reply.started": "2022-10-01T14:23:44.671427Z"
    }
   },
   "outputs": [],
   "source": [
    "final_data=final_data[[\"text\",\"label\"]]"
   ]
  },
  {
   "cell_type": "code",
   "execution_count": null,
   "metadata": {
    "execution": {
     "iopub.execute_input": "2022-10-01T14:23:44.682113Z",
     "iopub.status.busy": "2022-10-01T14:23:44.681856Z",
     "iopub.status.idle": "2022-10-01T14:23:44.695141Z",
     "shell.execute_reply": "2022-10-01T14:23:44.694264Z",
     "shell.execute_reply.started": "2022-10-01T14:23:44.682081Z"
    }
   },
   "outputs": [],
   "source": [
    "final_data['label'] = final_data['label'].map({'real':1, 'fake':0})"
   ]
  },
  {
   "cell_type": "code",
   "execution_count": null,
   "metadata": {
    "execution": {
     "iopub.execute_input": "2022-10-01T14:23:44.696537Z",
     "iopub.status.busy": "2022-10-01T14:23:44.696275Z",
     "iopub.status.idle": "2022-10-01T14:23:44.707594Z",
     "shell.execute_reply": "2022-10-01T14:23:44.70672Z",
     "shell.execute_reply.started": "2022-10-01T14:23:44.696496Z"
    }
   },
   "outputs": [],
   "source": [
    "final_data.sample(5)"
   ]
  },
  {
   "cell_type": "code",
   "execution_count": null,
   "metadata": {
    "execution": {
     "iopub.execute_input": "2022-10-01T14:23:44.712547Z",
     "iopub.status.busy": "2022-10-01T14:23:44.712339Z",
     "iopub.status.idle": "2022-10-01T14:23:44.719766Z",
     "shell.execute_reply": "2022-10-01T14:23:44.718965Z",
     "shell.execute_reply.started": "2022-10-01T14:23:44.712509Z"
    }
   },
   "outputs": [],
   "source": [
    "final_data.label[9943]"
   ]
  },
  {
   "cell_type": "code",
   "execution_count": null,
   "metadata": {
    "execution": {
     "iopub.execute_input": "2022-10-01T14:23:44.721373Z",
     "iopub.status.busy": "2022-10-01T14:23:44.721114Z",
     "iopub.status.idle": "2022-10-01T14:23:44.727927Z",
     "shell.execute_reply": "2022-10-01T14:23:44.727159Z",
     "shell.execute_reply.started": "2022-10-01T14:23:44.72134Z"
    }
   },
   "outputs": [],
   "source": [
    "final_data.text[36709]"
   ]
  },
  {
   "cell_type": "code",
   "execution_count": null,
   "metadata": {
    "execution": {
     "iopub.execute_input": "2022-10-01T14:23:44.729977Z",
     "iopub.status.busy": "2022-10-01T14:23:44.729208Z",
     "iopub.status.idle": "2022-10-01T14:23:44.736289Z",
     "shell.execute_reply": "2022-10-01T14:23:44.735729Z",
     "shell.execute_reply.started": "2022-10-01T14:23:44.729942Z"
    }
   },
   "outputs": [],
   "source": [
    "max_len=100\n",
    "data_text=final_data[\"text\"]\n",
    "data_label=final_data[\"label\"]\n"
   ]
  },
  {
   "cell_type": "code",
   "execution_count": null,
   "metadata": {
    "execution": {
     "iopub.execute_input": "2022-10-01T14:23:44.738893Z",
     "iopub.status.busy": "2022-10-01T14:23:44.737313Z",
     "iopub.status.idle": "2022-10-01T14:23:49.278543Z",
     "shell.execute_reply": "2022-10-01T14:23:49.277886Z",
     "shell.execute_reply.started": "2022-10-01T14:23:44.73886Z"
    }
   },
   "outputs": [],
   "source": [
    "bert_tokenizer = BertTokenizer.from_pretrained(\"bert-base-uncased\")\n"
   ]
  },
  {
   "cell_type": "code",
   "execution_count": null,
   "metadata": {
    "execution": {
     "iopub.execute_input": "2022-10-01T14:23:49.280106Z",
     "iopub.status.busy": "2022-10-01T14:23:49.279762Z",
     "iopub.status.idle": "2022-10-01T14:24:14.304696Z",
     "shell.execute_reply": "2022-10-01T14:24:14.303956Z",
     "shell.execute_reply.started": "2022-10-01T14:23:49.280069Z"
    }
   },
   "outputs": [],
   "source": [
    "bert_model = TFBertModel.from_pretrained('bert-base-uncased')"
   ]
  },
  {
   "cell_type": "code",
   "execution_count": null,
   "metadata": {
    "execution": {
     "iopub.execute_input": "2022-10-01T14:24:14.306801Z",
     "iopub.status.busy": "2022-10-01T14:24:14.306258Z",
     "iopub.status.idle": "2022-10-01T14:24:17.11896Z",
     "shell.execute_reply": "2022-10-01T14:24:17.11809Z",
     "shell.execute_reply.started": "2022-10-01T14:24:14.306761Z"
    }
   },
   "outputs": [],
   "source": [
    "tokenizer = AutoTokenizer.from_pretrained('bert-base-uncased')"
   ]
  },
  {
   "cell_type": "code",
   "execution_count": null,
   "metadata": {
    "execution": {
     "iopub.execute_input": "2022-10-01T14:24:17.125008Z",
     "iopub.status.busy": "2022-10-01T14:24:17.123107Z",
     "iopub.status.idle": "2022-10-01T14:24:17.17221Z",
     "shell.execute_reply": "2022-10-01T14:24:17.171494Z",
     "shell.execute_reply.started": "2022-10-01T14:24:17.124967Z"
    }
   },
   "outputs": [],
   "source": [
    "X_train, X_test, Y_train, Y_test = train_test_split(data_text, data_label, stratify = data_label, test_size = 0.2, random_state =42)"
   ]
  },
  {
   "cell_type": "code",
   "execution_count": null,
   "metadata": {
    "execution": {
     "iopub.execute_input": "2022-10-01T14:24:17.177503Z",
     "iopub.status.busy": "2022-10-01T14:24:17.175747Z",
     "iopub.status.idle": "2022-10-01T14:24:17.184218Z",
     "shell.execute_reply": "2022-10-01T14:24:17.183266Z",
     "shell.execute_reply.started": "2022-10-01T14:24:17.177466Z"
    }
   },
   "outputs": [],
   "source": [
    "def tokenize(X):\n",
    "    \n",
    "    X = bert_tokenizer(\n",
    "        text = list(X),\n",
    "        add_special_tokens = True,\n",
    "        max_length = 100,\n",
    "        truncation = True,\n",
    "        padding = 'max_length',\n",
    "        return_tensors = 'tf',\n",
    "        return_token_type_ids = False,\n",
    "        return_attention_mask = True,\n",
    "        verbose = True\n",
    "        )\n",
    "    return X"
   ]
  },
  {
   "cell_type": "code",
   "execution_count": null,
   "metadata": {
    "execution": {
     "iopub.execute_input": "2022-10-01T14:24:17.190492Z",
     "iopub.status.busy": "2022-10-01T14:24:17.188237Z",
     "iopub.status.idle": "2022-10-01T14:33:59.098695Z",
     "shell.execute_reply": "2022-10-01T14:33:59.097677Z",
     "shell.execute_reply.started": "2022-10-01T14:24:17.190456Z"
    }
   },
   "outputs": [],
   "source": [
    "X_train_token = tokenize(X_train)\n",
    "X_test_token = tokenize(X_test)"
   ]
  },
  {
   "cell_type": "code",
   "execution_count": null,
   "metadata": {
    "execution": {
     "iopub.execute_input": "2022-10-01T14:33:59.100722Z",
     "iopub.status.busy": "2022-10-01T14:33:59.100412Z",
     "iopub.status.idle": "2022-10-01T14:33:59.105731Z",
     "shell.execute_reply": "2022-10-01T14:33:59.104538Z",
     "shell.execute_reply.started": "2022-10-01T14:33:59.100681Z"
    }
   },
   "outputs": [],
   "source": [
    "maxlen=100"
   ]
  },
  {
   "cell_type": "markdown",
   "metadata": {},
   "source": [
    "create bert model"
   ]
  },
  {
   "cell_type": "code",
   "execution_count": null,
   "metadata": {
    "execution": {
     "iopub.execute_input": "2022-10-01T14:33:59.107559Z",
     "iopub.status.busy": "2022-10-01T14:33:59.107251Z",
     "iopub.status.idle": "2022-10-01T14:33:59.117198Z",
     "shell.execute_reply": "2022-10-01T14:33:59.116343Z",
     "shell.execute_reply.started": "2022-10-01T14:33:59.107524Z"
    }
   },
   "outputs": [],
   "source": [
    "def create_model():\n",
    "    dropout_rate=0.2\n",
    "    input_ids=Input(shape=(maxlen,),dtype=tf.int32)\n",
    "    input_mask=Input(shape=(maxlen,),dtype=tf.int32)\n",
    "    bert_layer=bert_model([input_ids,input_mask])[1]\n",
    "    x=Dropout(0.5)(bert_layer)\n",
    "    x=Dense(64,activation=\"tanh\")(x)\n",
    "    x=Dropout(0.2)(x)\n",
    "    x=Dense(1,activation=\"sigmoid\")(x)\n",
    "    model = Model(inputs=[input_ids, input_mask], outputs=x)\n",
    "    return model\n",
    "    \n",
    "    "
   ]
  },
  {
   "cell_type": "code",
   "execution_count": null,
   "metadata": {
    "execution": {
     "iopub.execute_input": "2022-10-01T14:33:59.118759Z",
     "iopub.status.busy": "2022-10-01T14:33:59.118484Z",
     "iopub.status.idle": "2022-10-01T14:34:04.799161Z",
     "shell.execute_reply": "2022-10-01T14:34:04.798412Z",
     "shell.execute_reply.started": "2022-10-01T14:33:59.118725Z"
    }
   },
   "outputs": [],
   "source": [
    "model=create_model()\n",
    "model.summary()"
   ]
  },
  {
   "cell_type": "code",
   "execution_count": null,
   "metadata": {
    "execution": {
     "iopub.execute_input": "2022-10-01T14:34:04.800796Z",
     "iopub.status.busy": "2022-10-01T14:34:04.800248Z",
     "iopub.status.idle": "2022-10-01T14:34:04.818058Z",
     "shell.execute_reply": "2022-10-01T14:34:04.817274Z",
     "shell.execute_reply.started": "2022-10-01T14:34:04.800759Z"
    }
   },
   "outputs": [],
   "source": [
    "optimizer = Adam(learning_rate=1e-05, epsilon=1e-08, decay=0.01,clipnorm=1.0)\n",
    "model.compile(optimizer = optimizer, loss = 'binary_crossentropy', metrics = 'accuracy')"
   ]
  },
  {
   "cell_type": "code",
   "execution_count": null,
   "metadata": {
    "execution": {
     "iopub.execute_input": "2022-10-01T14:34:04.81972Z",
     "iopub.status.busy": "2022-10-01T14:34:04.819417Z",
     "iopub.status.idle": "2022-10-01T14:34:04.826797Z",
     "shell.execute_reply": "2022-10-01T14:34:04.826103Z",
     "shell.execute_reply.started": "2022-10-01T14:34:04.819655Z"
    }
   },
   "outputs": [],
   "source": [
    "callback = tf.keras.callbacks.EarlyStopping(monitor='val_loss', mode='max', verbose=1, patience=50,baseline=0.4,min_delta=0.0001,restore_best_weights=False)"
   ]
  },
  {
   "cell_type": "code",
   "execution_count": null,
   "metadata": {
    "execution": {
     "iopub.execute_input": "2022-10-01T14:34:04.82835Z",
     "iopub.status.busy": "2022-10-01T14:34:04.828085Z",
     "iopub.status.idle": "2022-10-01T15:38:32.48353Z",
     "shell.execute_reply": "2022-10-01T15:38:32.482804Z",
     "shell.execute_reply.started": "2022-10-01T14:34:04.828316Z"
    }
   },
   "outputs": [],
   "source": [
    "history = model.fit(x = {'input_1':X_train_token['input_ids'],'input_2':X_train_token['attention_mask']}, y = Y_train, epochs=10, validation_split = 0.2, batch_size = 30, callbacks=[callback])"
   ]
  },
  {
   "cell_type": "code",
   "execution_count": null,
   "metadata": {
    "execution": {
     "iopub.execute_input": "2022-10-01T15:38:32.485476Z",
     "iopub.status.busy": "2022-10-01T15:38:32.485133Z",
     "iopub.status.idle": "2022-10-01T15:38:32.771427Z",
     "shell.execute_reply": "2022-10-01T15:38:32.770628Z",
     "shell.execute_reply.started": "2022-10-01T15:38:32.485437Z"
    }
   },
   "outputs": [],
   "source": [
    "# summarize history for accuracy\n",
    "plt.plot(history.history['accuracy'])\n",
    "plt.plot(history.history['val_accuracy'])\n",
    "plt.title('model accuracy')\n",
    "plt.ylabel('accuracy')\n",
    "plt.xlabel('epoch')\n",
    "plt.legend(['train', 'test'], loc='upper left')\n",
    "plt.show()"
   ]
  },
  {
   "cell_type": "code",
   "execution_count": null,
   "metadata": {
    "execution": {
     "iopub.execute_input": "2022-10-01T15:38:32.773828Z",
     "iopub.status.busy": "2022-10-01T15:38:32.772616Z",
     "iopub.status.idle": "2022-10-01T15:38:33.01839Z",
     "shell.execute_reply": "2022-10-01T15:38:33.017572Z",
     "shell.execute_reply.started": "2022-10-01T15:38:32.773788Z"
    }
   },
   "outputs": [],
   "source": [
    "# summarize history for loss\n",
    "plt.plot(history.history['loss'])\n",
    "plt.plot(history.history['val_loss'])\n",
    "plt.title('model loss')\n",
    "plt.ylabel('loss')\n",
    "plt.xlabel('epoch')\n",
    "plt.legend(['train', 'test'], loc='upper left')\n",
    "plt.show()\n"
   ]
  },
  {
   "cell_type": "code",
   "execution_count": null,
   "metadata": {
    "execution": {
     "iopub.execute_input": "2022-10-01T15:38:33.019826Z",
     "iopub.status.busy": "2022-10-01T15:38:33.019541Z",
     "iopub.status.idle": "2022-10-01T15:39:11.312551Z",
     "shell.execute_reply": "2022-10-01T15:39:11.311735Z",
     "shell.execute_reply.started": "2022-10-01T15:38:33.019786Z"
    }
   },
   "outputs": [],
   "source": [
    "y_pred = np.where(model.predict({ 'input_1' : X_test_token['input_ids'] , 'input_2' : X_test_token['attention_mask']}) >=0.5,1,0)"
   ]
  },
  {
   "cell_type": "markdown",
   "metadata": {},
   "source": [
    "Confusion matrix"
   ]
  },
  {
   "cell_type": "code",
   "execution_count": null,
   "metadata": {
    "execution": {
     "iopub.execute_input": "2022-10-01T15:39:11.314387Z",
     "iopub.status.busy": "2022-10-01T15:39:11.313975Z",
     "iopub.status.idle": "2022-10-01T15:39:11.519791Z",
     "shell.execute_reply": "2022-10-01T15:39:11.51895Z",
     "shell.execute_reply.started": "2022-10-01T15:39:11.314352Z"
    }
   },
   "outputs": [],
   "source": [
    "from mlxtend.plotting import plot_confusion_matrix\n",
    "conf_matrix = confusion_matrix(Y_test,y_pred)\n",
    "fig, ax = plot_confusion_matrix(conf_mat=conf_matrix, figsize=(6, 6), cmap=plt.cm.Greens)\n",
    "plt.xlabel('Predictions', fontsize=18)\n",
    "plt.ylabel('Actuals', fontsize=18)\n",
    "plt.title('Confusion Matrix', fontsize=18)\n",
    "plt.show()"
   ]
  },
  {
   "cell_type": "code",
   "execution_count": null,
   "metadata": {
    "execution": {
     "iopub.execute_input": "2022-10-01T15:39:11.521469Z",
     "iopub.status.busy": "2022-10-01T15:39:11.5212Z",
     "iopub.status.idle": "2022-10-01T15:39:11.543134Z",
     "shell.execute_reply": "2022-10-01T15:39:11.54233Z",
     "shell.execute_reply.started": "2022-10-01T15:39:11.521435Z"
    }
   },
   "outputs": [],
   "source": [
    "print(classification_report(Y_test,y_pred))"
   ]
  },
  {
   "cell_type": "markdown",
   "metadata": {},
   "source": [
    "Custom data prediction"
   ]
  },
  {
   "cell_type": "code",
   "execution_count": null,
   "metadata": {
    "execution": {
     "iopub.execute_input": "2022-10-01T15:39:11.544916Z",
     "iopub.status.busy": "2022-10-01T15:39:11.544505Z",
     "iopub.status.idle": "2022-10-01T15:39:11.550459Z",
     "shell.execute_reply": "2022-10-01T15:39:11.549725Z",
     "shell.execute_reply.started": "2022-10-01T15:39:11.544882Z"
    }
   },
   "outputs": [],
   "source": [
    "test_text=\"Cop Shares Racist Meme About Michelle Obama; Now That Cop Is Having A VERY Bad Day (IMAGES)After the election of Donald Trump many folks seem to see it as a permission slip to be as racist and vile as possible. However, here s the thing, you re still going to get called out as racist and vile. And one Alabama police officer just found this out the hard way.According to the Washington Post: Talladega Police Officer Joel Husk was terminated Wednesday for violating the department s social media and code of conduct policies, City Manager Patrick Bryant said. What did he do? So glad you asked: Husk had posted several memes on his Facebook page, including one showing Obama and Melania Trump.  Fluent in Slovenian, English, French, Serbian, and German,  it said over Trump s photo. Over Obama s, it read:  Fluent in Ghetto. Not only that, he posted several extraordinarily racist memes:via Washington Postvia Washington PostAccording to the City Manager, the statements were  deemed to be biased or racially insensitive or derogatory  and because of that, they  have to take action to correct it. If you re going to be a police officer and serve all the public, you can t assume black people standing up for their rights are equivalent to the KKK. That s about the most horrific equivalence imaginable.Also, according to WaPo: Husk, 37, who had been with the department for about two and a half years, had also shared a meme showing President Obama with the words:  Was Dallas a terrorist attack? Yes! Carried out by Obama s own homegrown terrorist group! Which is a blatant lie and anyone who were to feel that way belongs nowhere near law enforcement. The city took the proper action letting this racist cop go, and hopefully it will be an example to police departments all over the country that this sort of behavior simply cannot be tolerated.Trump s election must not be allowed to serve as a permission slip to bigots everywhere that it s fine to be as awful as possible, because here in the land of the free and the home of the brave, everyone is protected. Everyone, regardless of color, class, gender, sexual orientation, or creed.Featured Photo by Chip Somodevilla/Getty Images'\""
   ]
  },
  {
   "cell_type": "code",
   "execution_count": null,
   "metadata": {
    "execution": {
     "iopub.execute_input": "2022-10-01T15:39:11.552046Z",
     "iopub.status.busy": "2022-10-01T15:39:11.551776Z",
     "iopub.status.idle": "2022-10-01T15:39:12.042412Z",
     "shell.execute_reply": "2022-10-01T15:39:12.041684Z",
     "shell.execute_reply.started": "2022-10-01T15:39:11.552014Z"
    }
   },
   "outputs": [],
   "source": [
    "test_token = tokenize(test_text)"
   ]
  },
  {
   "cell_type": "code",
   "execution_count": null,
   "metadata": {
    "execution": {
     "iopub.execute_input": "2022-10-01T15:39:12.044206Z",
     "iopub.status.busy": "2022-10-01T15:39:12.04378Z",
     "iopub.status.idle": "2022-10-01T15:39:20.886617Z",
     "shell.execute_reply": "2022-10-01T15:39:20.885855Z",
     "shell.execute_reply.started": "2022-10-01T15:39:12.044169Z"
    }
   },
   "outputs": [],
   "source": [
    "test_text_pred = np.where(model.predict({ 'input_1' : test_token['input_ids'] , 'input_2' : test_token['attention_mask']}) >=0.5,1,0)"
   ]
  },
  {
   "cell_type": "code",
   "execution_count": null,
   "metadata": {
    "execution": {
     "iopub.execute_input": "2022-10-01T15:39:20.888039Z",
     "iopub.status.busy": "2022-10-01T15:39:20.887792Z",
     "iopub.status.idle": "2022-10-01T15:39:20.895297Z",
     "shell.execute_reply": "2022-10-01T15:39:20.894638Z",
     "shell.execute_reply.started": "2022-10-01T15:39:20.888006Z"
    }
   },
   "outputs": [],
   "source": [
    "test_text_pred"
   ]
  },
  {
   "cell_type": "code",
   "execution_count": null,
   "metadata": {
    "execution": {
     "iopub.execute_input": "2022-10-01T15:39:20.897025Z",
     "iopub.status.busy": "2022-10-01T15:39:20.896575Z",
     "iopub.status.idle": "2022-10-01T15:39:20.908746Z",
     "shell.execute_reply": "2022-10-01T15:39:20.907931Z",
     "shell.execute_reply.started": "2022-10-01T15:39:20.896989Z"
    }
   },
   "outputs": [],
   "source": [
    "if(test_text_pred[0]==0):\n",
    "    print(\"News is Fake\")\n",
    "else:\n",
    "    print(\"News is Real\")"
   ]
  },
  {
   "cell_type": "code",
   "execution_count": null,
   "metadata": {},
   "outputs": [],
   "source": []
  },
  {
   "cell_type": "code",
   "execution_count": null,
   "metadata": {},
   "outputs": [],
   "source": []
  }
 ],
 "metadata": {
  "kaggle": {
   "accelerator": "gpu",
   "dataSources": [
    {
     "datasetId": 2489578,
     "sourceId": 4223776,
     "sourceType": "datasetVersion"
    },
    {
     "datasetId": 2495423,
     "sourceId": 4233944,
     "sourceType": "datasetVersion"
    },
    {
     "datasetId": 2428302,
     "sourceId": 5383266,
     "sourceType": "datasetVersion"
    }
   ],
   "dockerImageVersionId": 30132,
   "isGpuEnabled": true,
   "isInternetEnabled": true,
   "language": "python",
   "sourceType": "notebook"
  },
  "kernelspec": {
   "display_name": "Python 3 (ipykernel)",
   "language": "python",
   "name": "python3"
  },
  "language_info": {
   "codemirror_mode": {
    "name": "ipython",
    "version": 3
   },
   "file_extension": ".py",
   "mimetype": "text/x-python",
   "name": "python",
   "nbconvert_exporter": "python",
   "pygments_lexer": "ipython3",
   "version": "3.11.3"
  }
 },
 "nbformat": 4,
 "nbformat_minor": 4
}
